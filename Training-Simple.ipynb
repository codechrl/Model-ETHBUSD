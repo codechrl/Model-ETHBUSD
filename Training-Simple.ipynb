{
  "cells": [
    {
      "cell_type": "code",
      "execution_count": null,
      "metadata": {
        "colab": {
          "base_uri": "https://localhost:8080/"
        },
        "id": "rBcyFOsD-uPu",
        "outputId": "28e602b6-8edf-442d-c0b7-dc3f93c0369b"
      },
      "outputs": [],
      "source": [
        "from google.colab import drive\n",
        "drive.mount('/content/drive')"
      ]
    },
    {
      "cell_type": "code",
      "execution_count": null,
      "metadata": {
        "colab": {
          "base_uri": "https://localhost:8080/"
        },
        "id": "JPuHQJZT-wEE",
        "outputId": "3498a9cb-fc2e-4034-810a-12da75c0b85b"
      },
      "outputs": [],
      "source": [
        "import math\n",
        "import numpy as np\n",
        "from numba import cuda\n",
        "import pandas as pd\n",
        "import seaborn as sns\n",
        "import matplotlib.pyplot as plt\n",
        "from scipy.stats import norm\n",
        "from matplotlib.pyplot import figure\n",
        "\n",
        "from keras.layers import Dropout\n",
        "\n",
        "from keras.callbacks import ModelCheckpoint,ReduceLROnPlateau\n",
        "\n",
        "from tqdm.notebook import tqdm\n",
        "\n",
        "#Importing the Libraries\n",
        "%matplotlib inline\n",
        "import matplotlib. pyplot as plt\n",
        "import matplotlib\n",
        "from sklearn.preprocessing import MinMaxScaler\n",
        "from keras.layers import LSTM, Dense, Dropout\n",
        "from sklearn.model_selection import TimeSeriesSplit\n",
        "from sklearn.metrics import mean_squared_error, r2_score\n",
        "import matplotlib.dates as mandates\n",
        "from sklearn.preprocessing import MinMaxScaler\n",
        "from sklearn import linear_model\n",
        "from keras.models import Sequential\n",
        "from keras.layers import Dense\n",
        "import keras.backend as K\n",
        "from keras.callbacks import EarlyStopping\n",
        "from keras.optimizers import adam_v2, adamax_v2, adadelta_v2, adagrad_v2, rmsprop_v2\n",
        "from keras.models import load_model\n",
        "from keras.layers import LSTM, GRU\n",
        "from keras.utils.vis_utils import plot_model\n",
        "import keras\n",
        "import pickle\n",
        "\n",
        "from statsmodels.tsa.stattools import grangercausalitytests"
      ]
    },
    {
      "cell_type": "code",
      "execution_count": null,
      "metadata": {
        "colab": {
          "base_uri": "https://localhost:8080/"
        },
        "id": "JQ6kEES0Q1xK",
        "outputId": "097c9547-b30a-46d9-e276-e6aabc6d502c"
      },
      "outputs": [],
      "source": [
        "#%tensorflow_version 2.x\n",
        "import tensorflow as tf\n",
        "device_name = tf.test.gpu_device_name()\n",
        "if device_name != '/device:GPU:0':\n",
        "  raise SystemError('GPU device not found')\n",
        "print('Found GPU at: {}'.format(device_name))"
      ]
    },
    {
      "cell_type": "markdown",
      "metadata": {
        "id": "Drso04P2RqJD"
      },
      "source": [
        "# **Read Dataset**"
      ]
    },
    {
      "cell_type": "code",
      "execution_count": null,
      "metadata": {
        "id": "NZbRf5NX-wH8"
      },
      "outputs": [],
      "source": []
    },
    {
      "cell_type": "code",
      "execution_count": null,
      "metadata": {
        "colab": {
          "base_uri": "https://localhost:8080/",
          "height": 423
        },
        "id": "-iYWbTNz_MTk",
        "outputId": "1de39895-c25c-4364-9353-776515172852"
      },
      "outputs": [],
      "source": [
        "df = pd.read_csv(path+filename, parse_dates=['timestamp'])\n",
        "df = df[df.timestamp > '2020-12-31 00:00:00']\n",
        "#df = df[df.month == 1]\n",
        "#df = df[df.day <= 4]\n",
        "#df = df[df.time <= '12:00:00']\n",
        "df.reset_index(inplace=True)\n",
        "del df['index']\n",
        "del df['ignore']\n",
        "del df['close_time']\n",
        "del df['quote_av']\n",
        "del df['tb_quote_av']\n",
        "del df['tb_base_av']\n",
        "df.timestamp = pd.to_datetime(df.timestamp)\n",
        "df.set_index('timestamp')\n",
        "df"
      ]
    },
    {
      "cell_type": "code",
      "execution_count": null,
      "metadata": {
        "colab": {
          "base_uri": "https://localhost:8080/",
          "height": 283
        },
        "id": "wPPu20twQ11v",
        "outputId": "1767a902-b33e-48db-8d4a-6d5ff4f707cc"
      },
      "outputs": [],
      "source": [
        "df[\"open\"].plot()"
      ]
    },
    {
      "cell_type": "code",
      "execution_count": null,
      "metadata": {
        "colab": {
          "base_uri": "https://localhost:8080/",
          "height": 527
        },
        "id": "G9C0gxKtRuNp",
        "outputId": "5074d0fc-97ac-43c2-8e88-c20a2fbddb12"
      },
      "outputs": [],
      "source": [
        "df_test = pd.read_csv(path+filename, parse_dates=['timestamp'])\n",
        "df_test = df_test[df_test.timestamp >= '2021-12-31 00:00:00']\n",
        "#df_test = df_test[df_test.month == 1]\n",
        "#df_test = df_test[df_test.day <= 4]\n",
        "#df_test = df_test[df_test.time <= '12:00:00']\n",
        "df_test.reset_index(inplace=True)\n",
        "del df_test['index']\n",
        "df_test.timestamp = pd.to_datetime(df_test.timestamp)\n",
        "df_test.set_index('timestamp')\n",
        "df_test"
      ]
    },
    {
      "cell_type": "code",
      "execution_count": null,
      "metadata": {
        "colab": {
          "base_uri": "https://localhost:8080/",
          "height": 285
        },
        "id": "4VIs2kSLfqDz",
        "outputId": "3588e38d-fd45-4374-b636-db957462d0f3"
      },
      "outputs": [],
      "source": [
        "df_test[\"open\"].plot()"
      ]
    },
    {
      "cell_type": "markdown",
      "metadata": {
        "id": "-LihOoB-R8z6"
      },
      "source": [
        "# **Prepro**"
      ]
    },
    {
      "cell_type": "markdown",
      "metadata": {
        "id": "gL0GsVn2SsOO"
      },
      "source": [
        "## **Get percentage change**"
      ]
    },
    {
      "cell_type": "code",
      "execution_count": null,
      "metadata": {
        "colab": {
          "base_uri": "https://localhost:8080/",
          "height": 423
        },
        "id": "sugYk95wSMq9",
        "outputId": "fabd3af8-5c06-4b8f-bcbf-1befc5457ef0"
      },
      "outputs": [],
      "source": [
        "df_test['pct_change'] = df_test['open'].pct_change()\n",
        "\n",
        "df['pct_change'] = df['open'].pct_change()\n",
        "df"
      ]
    },
    {
      "cell_type": "markdown",
      "metadata": {
        "id": "2l1AjjfAi1VR"
      },
      "source": [
        "## **Differential**"
      ]
    },
    {
      "cell_type": "code",
      "execution_count": null,
      "metadata": {
        "colab": {
          "base_uri": "https://localhost:8080/",
          "height": 423
        },
        "id": "a3-lfxFkh5t-",
        "outputId": "e65f2ab8-a7f5-49ce-a6d5-b1cc71e9c2ad"
      },
      "outputs": [],
      "source": [
        "# diff 1\n",
        "df_test['diff_1'] = df_test['open'].diff()\n",
        "df_test['diff_2'] = df_test['open'].diff().diff()\n",
        "df_test\n",
        "\n",
        "df['diff_1'] = df['open'].diff()\n",
        "df['diff_2'] = df['open'].diff().diff()\n",
        "df"
      ]
    },
    {
      "cell_type": "markdown",
      "metadata": {
        "id": "aJk4kMJyjTsR"
      },
      "source": [
        "## **Detrend**"
      ]
    },
    {
      "cell_type": "code",
      "execution_count": null,
      "metadata": {
        "colab": {
          "base_uri": "https://localhost:8080/",
          "height": 423
        },
        "id": "VPiyCe9CjUY4",
        "outputId": "246b836d-2297-4f4f-df17-9dbceac838af"
      },
      "outputs": [],
      "source": [
        "from scipy import signal\n",
        "\n",
        "df_test['detrend'] = signal.detrend(df_test['open'].values)\n",
        "df_test\n",
        "\n",
        "df['detrend'] = signal.detrend(df['open'].values)\n",
        "df"
      ]
    },
    {
      "cell_type": "markdown",
      "metadata": {
        "id": "Rypxwm_4kFHJ"
      },
      "source": [
        "## **Smoothing**"
      ]
    },
    {
      "cell_type": "code",
      "execution_count": null,
      "metadata": {
        "colab": {
          "base_uri": "https://localhost:8080/",
          "height": 423
        },
        "id": "Lrv4WGORkFU6",
        "outputId": "ac0400ea-0ac7-40d2-c67f-f0613a38d004"
      },
      "outputs": [],
      "source": [
        "from statsmodels.nonparametric.smoothers_lowess import lowess\n",
        "\n",
        "df_test['MA'] = df_test['open'].rolling(5, center=True).mean()\n",
        "#df_test['loess_5'] = pd.DataFrame(lowess(df_test['open'], np.arange(len(df_test['open'])), frac=0.05)[:, 1], index=df_test['open'], columns=['open'])\n",
        "#df_test['loess_15'] = pd.DataFrame(lowess(df_test['open'], np.arange(len(df_test['open'])), frac=0.15)[:, 1], index=df_test['open'], columns=['open'])\n",
        "\n",
        "df['MA'] = df['open'].rolling(3, center=True).mean()\n",
        "#df['loess_5'] = pd.DataFrame(lowess(df['open'], np.arange(len(df['open'])), frac=0.05)[:, 1], index=df['open'], columns=['open'])\n",
        "#df['loess_15'] = pd.DataFrame(lowess(df['open'], np.arange(len(df['open'])), frac=0.15)[:, 1], index=df['open'], columns=['open'])\n",
        "df"
      ]
    },
    {
      "cell_type": "markdown",
      "metadata": {
        "id": "hio6xUai7IP8"
      },
      "source": [
        "## **Get profit status**"
      ]
    },
    {
      "cell_type": "code",
      "execution_count": null,
      "metadata": {
        "id": "2emybBlx0E7W"
      },
      "outputs": [],
      "source": [
        "df_test['profit'] = df_test['pct_change'].apply(lambda x: 1000 if x > 0.0016 else 0)\n",
        "\n",
        "df['profit'] = df['pct_change'].apply(lambda x: 1000 if x > 0.0016 else 0)"
      ]
    },
    {
      "cell_type": "markdown",
      "metadata": {
        "id": "Y6DOxgRInZiV"
      },
      "source": [
        "## **Drop NaN**"
      ]
    },
    {
      "cell_type": "code",
      "execution_count": null,
      "metadata": {
        "colab": {
          "base_uri": "https://localhost:8080/",
          "height": 423
        },
        "id": "5QVLj22_lhoW",
        "outputId": "b8ba4979-5b0b-42e4-ce76-584844fe76c1"
      },
      "outputs": [],
      "source": [
        "df_test.dropna(inplace=True)\n",
        "#df_test['pct_change'] = df_test['pct_change'] + 2\n",
        "#df_test['diff_1'] = df_test['diff_1'] + 2000\n",
        "#df_test['diff_2'] = df_test['diff_2'] + 2000\n",
        "#df_test['detrend'] = df_test['detrend'] + 2000\n",
        "df_test.reset_index(inplace=True)\n",
        "del df_test['index']\n",
        "\n",
        "df.dropna(inplace=True)\n",
        "#df['pct_change'] = df['pct_change'] + 2\n",
        "#df['diff_1'] = df['diff_1'] + 2000\n",
        "#df['diff_2'] = df['diff_2'] + 2000\n",
        "#df['detrend'] = df['detrend'] + 2000\n",
        "df.reset_index(inplace=True)\n",
        "del df['index']\n",
        "\n",
        "df"
      ]
    },
    {
      "cell_type": "markdown",
      "metadata": {
        "id": "K28rI86ASyg3"
      },
      "source": [
        "## **Set target**"
      ]
    },
    {
      "cell_type": "code",
      "execution_count": null,
      "metadata": {
        "id": "qtyx-YGNRkE4"
      },
      "outputs": [],
      "source": [
        "#Set Target Variable\n",
        "target = 'close'\n",
        "y_test = df_test[target]\n",
        "y_train = df[target]"
      ]
    },
    {
      "cell_type": "markdown",
      "metadata": {
        "id": "j0ZrNlX7S6Q3"
      },
      "source": [
        "## **Set features**"
      ]
    },
    {
      "cell_type": "markdown",
      "metadata": {
        "id": "Z8FfYaOiS9eu"
      },
      "source": [
        "### **Get features correlation to target using Granger**"
      ]
    },
    {
      "cell_type": "code",
      "execution_count": null,
      "metadata": {
        "id": "Oiu9QiPdVtyk"
      },
      "outputs": [],
      "source": [
        "df_ = df.copy()\n",
        "del df_['timestamp']"
      ]
    },
    {
      "cell_type": "code",
      "execution_count": null,
      "metadata": {
        "colab": {
          "base_uri": "https://localhost:8080/",
          "height": 773,
          "referenced_widgets": [
            "6fbb63b625ce4b6d8d2f27ed9fcd4f95",
            "2a4a6eb64c254c77811f951697190294",
            "82af8c0ad4e9451b9c4a934dcabe03ab",
            "d09766f9d5ef472489dd97d856189d63",
            "c8b2af9362624ccc8498ee8823fc287f",
            "1bdffafe9c6e43ecb8385456eb773c82",
            "0ef26cff04a84a46a60906ce8a422e6e",
            "01cb416ab7d048719708492cc29f1adb",
            "b2f50ffab31547abb3513efb9fb6ff55",
            "889be71a26e34cbeb37826d04df77d57",
            "01394b8f4f3c4dbe937a9c120b552000"
          ]
        },
        "id": "j0PM7iJXcJgR",
        "outputId": "6f344e59-5d19-425f-953c-091034bce9c5"
      },
      "outputs": [],
      "source": [
        "maxlag=16\n",
        "test='ssr_chi2test'\n",
        "result = []\n",
        "\n",
        "for c in tqdm(df_.columns):\n",
        "  if c != target:\n",
        "    test_result = grangercausalitytests(df_[[target, c]], maxlag=maxlag, verbose=False)\n",
        "    p_values = [round(test_result[i+1][0][test][1],4) for i in range(maxlag)]\n",
        "    min_p_value = np.min(p_values)\n",
        "    result.append([c, min_p_value, p_values.index(min_p_value)+1])\n",
        "\n",
        "granger = pd.DataFrame(result, columns=['feature', target, 'lag'])\n",
        "granger.set_index('feature')\n",
        "granger"
      ]
    },
    {
      "cell_type": "code",
      "execution_count": null,
      "metadata": {
        "colab": {
          "base_uri": "https://localhost:8080/"
        },
        "id": "NwSu8MCITrH8",
        "outputId": "1cea3290-a956-4198-d2cc-389a23af2e45"
      },
      "outputs": [],
      "source": [
        "features = []\n",
        "for i, f in granger.iterrows():\n",
        "  if f[target] <0.005:\n",
        "    features.append(f['feature'])\n",
        "features"
      ]
    },
    {
      "cell_type": "markdown",
      "metadata": {
        "id": "H2L6FXJcpYQ9"
      },
      "source": [
        "## **Set train test data**"
      ]
    },
    {
      "cell_type": "code",
      "execution_count": null,
      "metadata": {
        "id": "--zawmoCFroQ"
      },
      "outputs": [],
      "source": [
        "#from tensorflow.keras.utils import to_categorical\n",
        "#y_test = to_categorical(y_test)\n",
        "#y_train = to_categorical(y_train)"
      ]
    },
    {
      "cell_type": "code",
      "execution_count": null,
      "metadata": {
        "id": "zPmwORPdpRYY"
      },
      "outputs": [],
      "source": [
        "trainX =  np.array(df[features])\n",
        "testX =  np.array(df_test[features])\n",
        "\n",
        "X_train = trainX.reshape(df[features].shape[0], 1, df[features].shape[1])\n",
        "X_test = testX.reshape(df_test[features].shape[0], 1, df_test[features].shape[1])"
      ]
    },
    {
      "cell_type": "markdown",
      "metadata": {
        "id": "NhrklEP_qqAs"
      },
      "source": [
        "# **Model**"
      ]
    },
    {
      "cell_type": "code",
      "execution_count": null,
      "metadata": {
        "id": "GNxJfhiwrVmo"
      },
      "outputs": [],
      "source": [
        "tf.get_logger().setLevel('ERROR')"
      ]
    },
    {
      "cell_type": "code",
      "execution_count": null,
      "metadata": {
        "id": "PzweKgJVqokI"
      },
      "outputs": [],
      "source": [
        "lstm = Sequential()\n",
        "lstm.add(LSTM(1210, input_shape=(1, trainX.shape[1]), use_bias=True, return_sequences=True, activation = \"elu\", bias_regularizer='l2'))\n",
        "#lstm.add(Dropout(0.1))\n",
        "lstm.add(LSTM(990, use_bias=True, return_sequences=True, activation = \"elu\", bias_regularizer='l2'))\n",
        "#lstm.add(Dropout(0.1))\n",
        "#lstm.add(LSTM(1100, return_sequences=True, use_bias=True, activation = \"elu\"))\n",
        "#lstm.add(Dense(1100, use_bias=True, activation = \"elu\"))\n",
        "\n",
        "lstm.add(Dense(770, use_bias=True, activation = \"elu\", bias_regularizer='l2'))\n",
        "#lstm.add(Dense(330, use_bias=True, activation = \"elu\"))\n",
        "lstm.add(Dense(99, use_bias=True, activation = \"elu\", bias_regularizer='l2'))\n",
        "lstm.add(Dense(11, use_bias=True, activation = \"elu\", bias_regularizer='l2'))\n",
        "lstm.add(Dense(1, activation = \"elu\"))\n",
        "\n",
        "lstm.compile(loss=\"mean_absolute_error\", optimizer=\"rmsprop\")\n",
        "#plot_model(lstm, show_shapes=True, show_layer_names=True)"
      ]
    },
    {
      "cell_type": "markdown",
      "metadata": {
        "id": "1Vo30xB-Efdf"
      },
      "source": [
        "## **Train**"
      ]
    },
    {
      "cell_type": "code",
      "execution_count": null,
      "metadata": {
        "id": "Wdv_FDdEr67r"
      },
      "outputs": [],
      "source": [
        "epoch = 100\n",
        "bs = 64\n",
        "patience_lr = 15\n",
        "patience_es = patience_lr * 3"
      ]
    },
    {
      "cell_type": "code",
      "execution_count": null,
      "metadata": {
        "colab": {
          "base_uri": "https://localhost:8080/"
        },
        "id": "NiX3frQtKZ77",
        "outputId": "0e2ba56f-2c22-4b24-f9af-38b998a699e0"
      },
      "outputs": [],
      "source": [
        "filepath = path+\"weight/Weight_ETHBUSD_5m.hdf5\"\n",
        "checkpoint = ModelCheckpoint(filepath, monitor='val_loss', verbose=1, save_best_only=True, mode='auto')\n",
        "reduce_lr = ReduceLROnPlateau(monitor='val_loss', factor=0.5, patience=patience_lr, verbose=1, min_delta=1e-3, mode='auto')\n",
        "early_stop = EarlyStopping(monitor='val_loss', patience=patience_es, verbose=1, mode='auto')\n",
        "callbacks_list = [checkpoint, reduce_lr, early_stop]\n",
        "    \n",
        "history = lstm.fit(X_train, y_train, \n",
        "                    epochs=epoch, batch_size=bs, \n",
        "                    validation_data=(X_test[:], y_test[:]), \n",
        "                    verbose=1, shuffle=False, callbacks=callbacks_list)\n",
        "                   "
      ]
    },
    {
      "cell_type": "markdown",
      "metadata": {
        "id": "gYIQNbObMnTR"
      },
      "source": [
        "## **Plot**"
      ]
    },
    {
      "cell_type": "code",
      "execution_count": null,
      "metadata": {
        "id": "leNs6T9xsTe3"
      },
      "outputs": [],
      "source": [
        "plt.plot(history.history['loss'],'b',label='loss')\n",
        "plt.plot(history.history['val_loss'],'r', label='val_loss')\n",
        "plt.legend(loc=\"best\")\n",
        "plt.title('MODEL VAL LOSS')"
      ]
    },
    {
      "cell_type": "markdown",
      "metadata": {
        "id": "3zQLSem2MqPD"
      },
      "source": [
        "## **Eval**"
      ]
    },
    {
      "cell_type": "code",
      "execution_count": null,
      "metadata": {
        "id": "aSdrKSWgsTsT"
      },
      "outputs": [],
      "source": [
        "lstm = load_model(filepath)\n",
        "y_pred = lstm.predict(X_test)\n",
        "\n",
        "y_predd = []\n",
        "for y in y_pred:\n",
        "  y_predd.append(y[0])"
      ]
    },
    {
      "cell_type": "code",
      "execution_count": null,
      "metadata": {
        "id": "ldjxByutv0PR"
      },
      "outputs": [],
      "source": [
        "plt.plot(y_predd[:], 'r', label='pred')\n",
        "plt.plot(y_test[:], 'b', label='actual')\n",
        "plt.legend(loc=\"best\")"
      ]
    },
    {
      "cell_type": "code",
      "execution_count": null,
      "metadata": {
        "id": "H33wQxrQMliK"
      },
      "outputs": [],
      "source": [
        "df_eval = pd.DataFrame(y_test)\n",
        "df_eval\n",
        "df_eval ['pct_change_actual'] = df_eval ['open'].pct_change()\n",
        "df_eval['profit_actual'] = df_eval['pct_change_actual'].apply(lambda x: 1000 if x > 0.0016 else 0)\n",
        "\n",
        "df_eval ['open_pred'] = y_predd\n",
        "df_eval['pct_change'] = df_eval['open_pred'].pct_change()\n",
        "df_eval['profit'] = df_eval['pct_change'].apply(lambda x: 1000 if x > 0.0016 else 0)\n",
        "\n",
        "df_eval"
      ]
    },
    {
      "cell_type": "markdown",
      "metadata": {
        "id": "xSzxsIBog1fr"
      },
      "source": [
        "## **Accuracy profit**"
      ]
    },
    {
      "cell_type": "code",
      "execution_count": null,
      "metadata": {
        "id": "1T7emzs8eUHq"
      },
      "outputs": [],
      "source": [
        "from sklearn.metrics import classification_report\n",
        "print( classification_report(df_eval['profit_actual'], df_eval['profit']))"
      ]
    },
    {
      "cell_type": "code",
      "execution_count": null,
      "metadata": {
        "id": "65JJBuYjfCsU"
      },
      "outputs": [],
      "source": []
    }
  ],
  "metadata": {
    "accelerator": "GPU",
    "colab": {
      "collapsed_sections": [],
      "name": "DL.ipynb",
      "provenance": []
    },
    "kernelspec": {
      "display_name": "Python 3",
      "name": "python3"
    },
    "language_info": {
      "name": "python"
    },
    "widgets": {
      "application/vnd.jupyter.widget-state+json": {
        "01394b8f4f3c4dbe937a9c120b552000": {
          "model_module": "@jupyter-widgets/base",
          "model_module_version": "1.2.0",
          "model_name": "LayoutModel",
          "state": {
            "_model_module": "@jupyter-widgets/base",
            "_model_module_version": "1.2.0",
            "_model_name": "LayoutModel",
            "_view_count": null,
            "_view_module": "@jupyter-widgets/base",
            "_view_module_version": "1.2.0",
            "_view_name": "LayoutView",
            "align_content": null,
            "align_items": null,
            "align_self": null,
            "border": null,
            "bottom": null,
            "display": null,
            "flex": null,
            "flex_flow": null,
            "grid_area": null,
            "grid_auto_columns": null,
            "grid_auto_flow": null,
            "grid_auto_rows": null,
            "grid_column": null,
            "grid_gap": null,
            "grid_row": null,
            "grid_template_areas": null,
            "grid_template_columns": null,
            "grid_template_rows": null,
            "height": null,
            "justify_content": null,
            "justify_items": null,
            "left": null,
            "margin": null,
            "max_height": null,
            "max_width": null,
            "min_height": null,
            "min_width": null,
            "object_fit": null,
            "object_position": null,
            "order": null,
            "overflow": null,
            "overflow_x": null,
            "overflow_y": null,
            "padding": null,
            "right": null,
            "top": null,
            "visibility": null,
            "width": null
          }
        },
        "01cb416ab7d048719708492cc29f1adb": {
          "model_module": "@jupyter-widgets/controls",
          "model_module_version": "1.5.0",
          "model_name": "ProgressStyleModel",
          "state": {
            "_model_module": "@jupyter-widgets/controls",
            "_model_module_version": "1.5.0",
            "_model_name": "ProgressStyleModel",
            "_view_count": null,
            "_view_module": "@jupyter-widgets/base",
            "_view_module_version": "1.2.0",
            "_view_name": "StyleView",
            "bar_color": null,
            "description_width": ""
          }
        },
        "0ef26cff04a84a46a60906ce8a422e6e": {
          "model_module": "@jupyter-widgets/base",
          "model_module_version": "1.2.0",
          "model_name": "LayoutModel",
          "state": {
            "_model_module": "@jupyter-widgets/base",
            "_model_module_version": "1.2.0",
            "_model_name": "LayoutModel",
            "_view_count": null,
            "_view_module": "@jupyter-widgets/base",
            "_view_module_version": "1.2.0",
            "_view_name": "LayoutView",
            "align_content": null,
            "align_items": null,
            "align_self": null,
            "border": null,
            "bottom": null,
            "display": null,
            "flex": null,
            "flex_flow": null,
            "grid_area": null,
            "grid_auto_columns": null,
            "grid_auto_flow": null,
            "grid_auto_rows": null,
            "grid_column": null,
            "grid_gap": null,
            "grid_row": null,
            "grid_template_areas": null,
            "grid_template_columns": null,
            "grid_template_rows": null,
            "height": null,
            "justify_content": null,
            "justify_items": null,
            "left": null,
            "margin": null,
            "max_height": null,
            "max_width": null,
            "min_height": null,
            "min_width": null,
            "object_fit": null,
            "object_position": null,
            "order": null,
            "overflow": null,
            "overflow_x": null,
            "overflow_y": null,
            "padding": null,
            "right": null,
            "top": null,
            "visibility": null,
            "width": null
          }
        },
        "1bdffafe9c6e43ecb8385456eb773c82": {
          "model_module": "@jupyter-widgets/controls",
          "model_module_version": "1.5.0",
          "model_name": "DescriptionStyleModel",
          "state": {
            "_model_module": "@jupyter-widgets/controls",
            "_model_module_version": "1.5.0",
            "_model_name": "DescriptionStyleModel",
            "_view_count": null,
            "_view_module": "@jupyter-widgets/base",
            "_view_module_version": "1.2.0",
            "_view_name": "StyleView",
            "description_width": ""
          }
        },
        "2a4a6eb64c254c77811f951697190294": {
          "model_module": "@jupyter-widgets/base",
          "model_module_version": "1.2.0",
          "model_name": "LayoutModel",
          "state": {
            "_model_module": "@jupyter-widgets/base",
            "_model_module_version": "1.2.0",
            "_model_name": "LayoutModel",
            "_view_count": null,
            "_view_module": "@jupyter-widgets/base",
            "_view_module_version": "1.2.0",
            "_view_name": "LayoutView",
            "align_content": null,
            "align_items": null,
            "align_self": null,
            "border": null,
            "bottom": null,
            "display": null,
            "flex": null,
            "flex_flow": null,
            "grid_area": null,
            "grid_auto_columns": null,
            "grid_auto_flow": null,
            "grid_auto_rows": null,
            "grid_column": null,
            "grid_gap": null,
            "grid_row": null,
            "grid_template_areas": null,
            "grid_template_columns": null,
            "grid_template_rows": null,
            "height": null,
            "justify_content": null,
            "justify_items": null,
            "left": null,
            "margin": null,
            "max_height": null,
            "max_width": null,
            "min_height": null,
            "min_width": null,
            "object_fit": null,
            "object_position": null,
            "order": null,
            "overflow": null,
            "overflow_x": null,
            "overflow_y": null,
            "padding": null,
            "right": null,
            "top": null,
            "visibility": null,
            "width": null
          }
        },
        "6fbb63b625ce4b6d8d2f27ed9fcd4f95": {
          "model_module": "@jupyter-widgets/controls",
          "model_module_version": "1.5.0",
          "model_name": "HBoxModel",
          "state": {
            "_dom_classes": [],
            "_model_module": "@jupyter-widgets/controls",
            "_model_module_version": "1.5.0",
            "_model_name": "HBoxModel",
            "_view_count": null,
            "_view_module": "@jupyter-widgets/controls",
            "_view_module_version": "1.5.0",
            "_view_name": "HBoxView",
            "box_style": "",
            "children": [
              "IPY_MODEL_82af8c0ad4e9451b9c4a934dcabe03ab",
              "IPY_MODEL_d09766f9d5ef472489dd97d856189d63",
              "IPY_MODEL_c8b2af9362624ccc8498ee8823fc287f"
            ],
            "layout": "IPY_MODEL_2a4a6eb64c254c77811f951697190294"
          }
        },
        "82af8c0ad4e9451b9c4a934dcabe03ab": {
          "model_module": "@jupyter-widgets/controls",
          "model_module_version": "1.5.0",
          "model_name": "HTMLModel",
          "state": {
            "_dom_classes": [],
            "_model_module": "@jupyter-widgets/controls",
            "_model_module_version": "1.5.0",
            "_model_name": "HTMLModel",
            "_view_count": null,
            "_view_module": "@jupyter-widgets/controls",
            "_view_module_version": "1.5.0",
            "_view_name": "HTMLView",
            "description": "",
            "description_tooltip": null,
            "layout": "IPY_MODEL_0ef26cff04a84a46a60906ce8a422e6e",
            "placeholder": "​",
            "style": "IPY_MODEL_1bdffafe9c6e43ecb8385456eb773c82",
            "value": "100%"
          }
        },
        "889be71a26e34cbeb37826d04df77d57": {
          "model_module": "@jupyter-widgets/controls",
          "model_module_version": "1.5.0",
          "model_name": "DescriptionStyleModel",
          "state": {
            "_model_module": "@jupyter-widgets/controls",
            "_model_module_version": "1.5.0",
            "_model_name": "DescriptionStyleModel",
            "_view_count": null,
            "_view_module": "@jupyter-widgets/base",
            "_view_module_version": "1.2.0",
            "_view_name": "StyleView",
            "description_width": ""
          }
        },
        "b2f50ffab31547abb3513efb9fb6ff55": {
          "model_module": "@jupyter-widgets/base",
          "model_module_version": "1.2.0",
          "model_name": "LayoutModel",
          "state": {
            "_model_module": "@jupyter-widgets/base",
            "_model_module_version": "1.2.0",
            "_model_name": "LayoutModel",
            "_view_count": null,
            "_view_module": "@jupyter-widgets/base",
            "_view_module_version": "1.2.0",
            "_view_name": "LayoutView",
            "align_content": null,
            "align_items": null,
            "align_self": null,
            "border": null,
            "bottom": null,
            "display": null,
            "flex": null,
            "flex_flow": null,
            "grid_area": null,
            "grid_auto_columns": null,
            "grid_auto_flow": null,
            "grid_auto_rows": null,
            "grid_column": null,
            "grid_gap": null,
            "grid_row": null,
            "grid_template_areas": null,
            "grid_template_columns": null,
            "grid_template_rows": null,
            "height": null,
            "justify_content": null,
            "justify_items": null,
            "left": null,
            "margin": null,
            "max_height": null,
            "max_width": null,
            "min_height": null,
            "min_width": null,
            "object_fit": null,
            "object_position": null,
            "order": null,
            "overflow": null,
            "overflow_x": null,
            "overflow_y": null,
            "padding": null,
            "right": null,
            "top": null,
            "visibility": null,
            "width": null
          }
        },
        "c8b2af9362624ccc8498ee8823fc287f": {
          "model_module": "@jupyter-widgets/controls",
          "model_module_version": "1.5.0",
          "model_name": "HTMLModel",
          "state": {
            "_dom_classes": [],
            "_model_module": "@jupyter-widgets/controls",
            "_model_module_version": "1.5.0",
            "_model_name": "HTMLModel",
            "_view_count": null,
            "_view_module": "@jupyter-widgets/controls",
            "_view_module_version": "1.5.0",
            "_view_name": "HTMLView",
            "description": "",
            "description_tooltip": null,
            "layout": "IPY_MODEL_01394b8f4f3c4dbe937a9c120b552000",
            "placeholder": "​",
            "style": "IPY_MODEL_889be71a26e34cbeb37826d04df77d57",
            "value": " 12/12 [00:18&lt;00:00,  1.61s/it]"
          }
        },
        "d09766f9d5ef472489dd97d856189d63": {
          "model_module": "@jupyter-widgets/controls",
          "model_module_version": "1.5.0",
          "model_name": "FloatProgressModel",
          "state": {
            "_dom_classes": [],
            "_model_module": "@jupyter-widgets/controls",
            "_model_module_version": "1.5.0",
            "_model_name": "FloatProgressModel",
            "_view_count": null,
            "_view_module": "@jupyter-widgets/controls",
            "_view_module_version": "1.5.0",
            "_view_name": "ProgressView",
            "bar_style": "success",
            "description": "",
            "description_tooltip": null,
            "layout": "IPY_MODEL_b2f50ffab31547abb3513efb9fb6ff55",
            "max": 12,
            "min": 0,
            "orientation": "horizontal",
            "style": "IPY_MODEL_01cb416ab7d048719708492cc29f1adb",
            "value": 12
          }
        }
      }
    }
  },
  "nbformat": 4,
  "nbformat_minor": 0
}
