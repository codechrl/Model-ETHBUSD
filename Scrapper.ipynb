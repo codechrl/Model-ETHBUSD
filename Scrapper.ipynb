{
  "cells": [
    {
      "cell_type": "code",
      "execution_count": null,
      "metadata": {
        "colab": {
          "base_uri": "https://localhost:8080/"
        },
        "id": "OUj3vbYhdi-v",
        "outputId": "91b92bf2-467d-4960-feb3-8020c3ea337e"
      },
      "outputs": [],
      "source": [
        "from google.colab import drive\n",
        "drive.mount('/content/drive')"
      ]
    },
    {
      "cell_type": "code",
      "execution_count": null,
      "metadata": {
        "id": "9iCRiMG2dZrj"
      },
      "outputs": [],
      "source": [
        "!pip install python-binance -qq"
      ]
    },
    {
      "cell_type": "code",
      "execution_count": null,
      "metadata": {
        "id": "167CcyySdOcK"
      },
      "outputs": [],
      "source": [
        "import pandas as pd\n",
        "import numpy \n",
        "from tqdm.notebook import tqdm\n",
        "import pickle\n",
        "import pandas as pd\n",
        "import math\n",
        "import os.path\n",
        "import time\n",
        "import requests\n",
        "#from bitmex import bitmex\n",
        "from binance.client import Client\n",
        "#from binance.spot import Spot as Client\n",
        "import os\n",
        "\n",
        "from datetime import timedelta, datetime\n",
        "from dateutil import parser\n",
        "from tqdm import tqdm_notebook #(Optional, used for progress-bars)\n",
        "\n",
        "from IPython.display import clear_output"
      ]
    },
    {
      "cell_type": "code",
      "execution_count": null,
      "metadata": {
        "id": "Lax8bajWdOcc"
      },
      "outputs": [],
      "source": []
    },
    {
      "cell_type": "code",
      "execution_count": null,
      "metadata": {
        "id": "0QSpDiMcDRY3"
      },
      "outputs": [],
      "source": [
        "#os.environ [\"http_proxy\"]='http://194.5.193.183:80'\n",
        "\n",
        "### API\n",
        "#bitmex_api_key = 'UGaVHVUZBILUINmiYk3bs4d6'    #Enter your own API-key here\n",
        "#bitmex_api_secret = 'nMetNhylbIaUeqdgkl9bdEHnSuxR1Ov0bzI6YuWhUJ2AqC5b' #Enter your own API-secret here\n",
        "binance_api_key = binance_api    #Enter your own API-key here\n",
        "binance_api_secret = binance_secret #Enter your own API-secret here\n",
        "\n",
        "#!export HTTP_PROXY=\"http://10.10.1.10:3128\"\n",
        "#!export HTTPS_PROXY=\"http://10.10.1.10:1080\"\n",
        "\n",
        "while True:\n",
        "    try:\n",
        "        binance_client = Client(api_key=binance_api_key, api_secret=binance_api_secret)\n",
        "        break\n",
        "    except Exception as e:\n",
        "        print(e)"
      ]
    },
    {
      "cell_type": "code",
      "execution_count": null,
      "metadata": {
        "id": "3mfSroxWdOcf"
      },
      "outputs": [],
      "source": [
        "### CONSTANTS\n",
        "binsizes = {\"1m\": 1, \"3m\": 3, \"5m\": 5, \"10m\": 10, \"15m\": 15, \"30m\": 30,\n",
        "            \"1h\": 60, \"3h\": 180, \"6h\": 360, \"12h\": 720, \"1d\": 1440}\n",
        "batch_size = 750\n",
        "\n",
        "### FUNCTIONS\n",
        "def minutes_of_new_data(symbol, kline_size, data, source):\n",
        "    if len(data) > 0:  old = parser.parse(data[\"timestamp\"].iloc[-1])\n",
        "    elif source == \"binance\": old = datetime.strptime('1 Jan 2019', '%d %b %Y')\n",
        "    elif source == \"bitmex\": old = bitmex_client.Trade.Trade_getBucketed(symbol=symbol, binSize=kline_size, count=1, reverse=False).result()[0][0]['timestamp']\n",
        "    if source == \"binance\": new = pd.to_datetime(binance_client.get_klines(symbol=symbol, interval=kline_size)[-1][0], unit='ms')\n",
        "    if source == \"bitmex\": new = bitmex_client.Trade.Trade_getBucketed(symbol=symbol, binSize=kline_size, count=1, reverse=True).result()[0][0]['timestamp']\n",
        "    return old, new\n",
        "\n",
        "def get_all_binance(symbol, kline_size, save = False):\n",
        "    filename = '/content/drive/MyDrive/generate_dataset/movement/dataset/%s-%s-data.csv' % (symbol, kline_size)\n",
        "    if os.path.isfile(filename): \n",
        "      data_df = pd.read_csv(filename)\n",
        "      data_df = data_df[:-500]\n",
        "    else: data_df = pd.DataFrame()\n",
        "    oldest_point, newest_point = minutes_of_new_data(symbol, kline_size, data_df, source = \"binance\")\n",
        "    delta_min = (newest_point - oldest_point).total_seconds()/60\n",
        "    available_data = math.ceil(delta_min/binsizes[kline_size])\n",
        "    if oldest_point == datetime.strptime('1 Jan 2021', '%d %b %Y'): print('Downloading all available %s data for %s. Be patient..!' % (kline_size, symbol))\n",
        "    else: print('Downloading %d minutes of new data available for %s, i.e. %d instances of %s data.' % (delta_min, symbol, available_data, kline_size))\n",
        "    klines = binance_client.get_historical_klines(symbol, kline_size, oldest_point.strftime(\"%d %b %Y %H:%M:%S\"), newest_point.strftime(\"%d %b %Y %H:%M:%S\"))\n",
        "    data = pd.DataFrame(klines, columns = ['timestamp', 'open', 'high', 'low', 'close', 'volume', 'close_time', 'quote_av', 'trades', 'tb_base_av', 'tb_quote_av', 'ignore' ])\n",
        "    data['timestamp'] = pd.to_datetime(data['timestamp'], unit='ms')\n",
        "    if len(data_df) > 0:\n",
        "        temp_df = pd.DataFrame(data)\n",
        "        data_df = data_df.append(temp_df)\n",
        "        data_df = data_df[:-1]\n",
        "    else: data_df = data[:-1]\n",
        "    data_df.set_index('timestamp', inplace=True)\n",
        "    if save: data_df.to_csv(filename)\n",
        "    print('All caught up..!')\n",
        "    return data_df\n"
      ]
    },
    {
      "cell_type": "code",
      "execution_count": null,
      "metadata": {
        "colab": {
          "base_uri": "https://localhost:8080/"
        },
        "id": "FZGVdEPTdOcr",
        "outputId": "ceab77ea-8042-4d18-d1fa-8ed1e80b2f5d"
      },
      "outputs": [],
      "source": [
        "%%time\n",
        "get_all_binance(\"ETHBUSD\", '1d', save = True)\n",
        "get_all_binance(\"ETHBUSD\", '12h', save = True)\n",
        "get_all_binance(\"ETHBUSD\", '6h', save = True)\n",
        "get_all_binance(\"ETHBUSD\", '1h', save = True)\n",
        "get_all_binance(\"ETHBUSD\", '30m', save = True)\n",
        "get_all_binance(\"ETHBUSD\", '15m', save = True)\n",
        "get_all_binance(\"ETHBUSD\", '5m', save = True)"
      ]
    },
    {
      "cell_type": "code",
      "execution_count": null,
      "metadata": {
        "colab": {
          "base_uri": "https://localhost:8080/"
        },
        "id": "3zX5UpH7Nc7q",
        "outputId": "017b38e9-6f8a-4056-be56-6ec4d660c621"
      },
      "outputs": [],
      "source": [
        "while (True):\n",
        "  get_all_binance(\"ETHBUSD\", '1d', save = True)\n",
        "  get_all_binance(\"ETHBUSD\", '12h', save = True)\n",
        "  get_all_binance(\"ETHBUSD\", '6h', save = True)\n",
        "  get_all_binance(\"ETHBUSD\", '1h', save = True)\n",
        "  get_all_binance(\"ETHBUSD\", '30m', save = True)\n",
        "  get_all_binance(\"ETHBUSD\", '15m', save = True)\n",
        "  get_all_binance(\"ETHBUSD\", '5m', save = True)\n",
        "  clear_output()"
      ]
    }
  ],
  "metadata": {
    "colab": {
      "collapsed_sections": [],
      "name": "Salinan Scrapper.ipynb",
      "provenance": []
    },
    "kernelspec": {
      "display_name": "Python 3",
      "language": "python",
      "name": "python3"
    },
    "language_info": {
      "codemirror_mode": {
        "name": "ipython",
        "version": 3
      },
      "file_extension": ".py",
      "mimetype": "text/x-python",
      "name": "python",
      "nbconvert_exporter": "python",
      "pygments_lexer": "ipython3",
      "version": "3.8.10"
    }
  },
  "nbformat": 4,
  "nbformat_minor": 0
}
