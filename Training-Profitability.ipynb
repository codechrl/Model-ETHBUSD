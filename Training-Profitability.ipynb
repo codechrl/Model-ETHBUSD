{
  "cells": [
    {
      "cell_type": "code",
      "execution_count": null,
      "metadata": {
        "colab": {
          "base_uri": "https://localhost:8080/"
        },
        "id": "IZmi3pTkd0TG",
        "outputId": "cb6db074-0a31-4ce2-ad51-fd5ff1e0bda0"
      },
      "outputs": [],
      "source": [
        "from google.colab import drive\n",
        "drive.mount('/content/drive', force_remount=True)"
      ]
    },
    {
      "cell_type": "code",
      "execution_count": null,
      "metadata": {
        "colab": {
          "base_uri": "https://localhost:8080/"
        },
        "id": "xY6R6dTEd06q",
        "outputId": "683ced80-cc02-4761-a7b9-1d2a49dd9701"
      },
      "outputs": [],
      "source": [
        "#!pip install python-binance -qq\n",
        "!pip install -qq wandb\n",
        "#!conda install -c conda-forge sktime-all-extras -y\n",
        "!pip install sktime\n",
        "!pip install -qq --upgrade tsfresh\n",
        "!pip install scipy==1.5"
      ]
    },
    {
      "cell_type": "code",
      "execution_count": null,
      "metadata": {
        "colab": {
          "base_uri": "https://localhost:8080/"
        },
        "id": "CZW9e1Vmd0_Q",
        "outputId": "b55a4564-b367-44e2-fc5c-7bad80bf4227"
      },
      "outputs": [],
      "source": [
        "!nvidia-smi --query-gpu=gpu_name,driver_version,memory.total --format=csv"
      ]
    },
    {
      "cell_type": "code",
      "execution_count": null,
      "metadata": {
        "colab": {
          "base_uri": "https://localhost:8080/"
        },
        "id": "1D5plb4NeAFS",
        "outputId": "6d60b01b-5d12-4cb1-dd0e-fad5a51ff0d5"
      },
      "outputs": [],
      "source": [
        "#%tensorflow_version 2.x\n",
        "import tensorflow as tf\n",
        "device_name = tf.test.gpu_device_name()\n",
        "if device_name != '/device:GPU:0':\n",
        "  print('GPU device not found')\n",
        "print('Found GPU at: {}'.format(device_name))"
      ]
    },
    {
      "cell_type": "markdown",
      "metadata": {
        "id": "6b4INnH3eAfq"
      },
      "source": []
    },
    {
      "cell_type": "code",
      "execution_count": null,
      "metadata": {
        "id": "KnPnnBxtd1Bu"
      },
      "outputs": [],
      "source": [
        "import math\n",
        "import numpy as np\n",
        "#from numba import cuda\n",
        "import pandas as pd\n",
        "import seaborn as sns\n",
        "import matplotlib.pyplot as plt\n",
        "from scipy.stats import norm\n",
        "from matplotlib.pyplot import figure\n",
        "import statistics\n",
        "\n",
        "from keras.layers import Dropout\n",
        "from keras.callbacks import ModelCheckpoint,ReduceLROnPlateau\n",
        "from tqdm.notebook import tqdm\n",
        "\n",
        "#Importing the Libraries\n",
        "%matplotlib inline\n",
        "import matplotlib. pyplot as plt\n",
        "import matplotlib\n",
        "from sklearn.preprocessing import MinMaxScaler\n",
        "from keras.layers import LSTM, Dense, Dropout\n",
        "from sklearn.model_selection import TimeSeriesSplit\n",
        "from sklearn.metrics import mean_squared_error, r2_score\n",
        "import matplotlib.dates as mandates\n",
        "from sklearn.preprocessing import MinMaxScaler\n",
        "from sklearn import linear_model\n",
        "from keras.models import Sequential\n",
        "from keras.layers import Dense\n",
        "import keras.backend as K\n",
        "from keras.callbacks import EarlyStopping\n",
        "from keras.optimizers import adam_v2, adamax_v2, adadelta_v2, adagrad_v2, rmsprop_v2\n",
        "#from keras.optimizers import Adam, Adamax, Adadelta, Adagrad\n",
        "from keras.models import load_model\n",
        "from keras.layers import LSTM, GRU, Flatten,BatchNormalization\n",
        "from tensorflow.keras import regularizers\n",
        "from keras.utils.vis_utils import plot_model\n",
        "import keras\n",
        "import pickle\n",
        "\n",
        "import tsfresh\n",
        "from tsfresh import extract_features, extract_relevant_features, select_features\n",
        "from tsfresh.utilities.dataframe_functions import impute\n",
        "from tsfresh.feature_extraction import ComprehensiveFCParameters\n",
        "#from tsfresh.feature_extraction.settings import Feature_Extraction_Settings\n",
        "#from sktime.transformers.series_as_features.summarize import TSFreshFeatureExtractor\n",
        "\n",
        "from sklearn.metrics import classification_report, recall_score, precision_score\n",
        "\n",
        "#from statsmodels.tsa.stattools import grangercausalitytests\n",
        "from sklearn.metrics import classification_report\n",
        "from datetime import datetime\n",
        "\n",
        "from IPython.display import clear_output \n",
        "from scipy import signal\n",
        "from sklearn.metrics import classification_report, recall_score, precision_score\n",
        "\n",
        "from sktime.forecasting.model_selection import temporal_train_test_split\n",
        "from sklearn.preprocessing import StandardScaler\n",
        "\n",
        "from sklearn.decomposition import PCA\n",
        "from tensorflow.keras.callbacks import LearningRateScheduler"
      ]
    },
    {
      "cell_type": "code",
      "execution_count": null,
      "metadata": {
        "id": "2EFiYywOeKu7"
      },
      "outputs": [],
      "source": [
        "root = '/content/drive/MyDrive/'\n",
        "path = root+'generate_dataset/ETHBUSD/'"
      ]
    },
    {
      "cell_type": "code",
      "execution_count": null,
      "metadata": {
        "id": "8lEBc7MhioGj"
      },
      "outputs": [],
      "source": [
        "#path = '/home/kurniawan/dataset/'"
      ]
    },
    {
      "cell_type": "markdown",
      "metadata": {
        "id": "kjGtUDjdjS59"
      },
      "source": [
        "## **Feature**"
      ]
    },
    {
      "cell_type": "code",
      "execution_count": null,
      "metadata": {
        "colab": {
          "base_uri": "https://localhost:8080/",
          "height": 423
        },
        "id": "7BLS-8Jbd1D-",
        "outputId": "68f6c34a-9964-4775-df47-4ddc3ac35de6"
      },
      "outputs": [],
      "source": [
        "df = pd.read_csv(path+\"ETHBUSD-5m-data.csv\", parse_dates=['timestamp'])\n",
        "del df['close_time']\n",
        "del df['quote_av']\n",
        "del df['tb_base_av']\n",
        "del df['tb_quote_av']\n",
        "del df['ignore']\n",
        "\n",
        "# volume / trades\n",
        "vt_mult = 1\n",
        "df['vt'] = ( df['volume']/df['trades'] ) * vt_mult\n",
        "del df['trades']\n",
        "del df['volume']\n",
        "\n",
        "# precentage change\n",
        "pct_mult = 2500\n",
        "df['pct_change'] = df['close'].pct_change(1)\n",
        "df['pct_change'] = (df['pct_change'] +1 ) * 100\n",
        "#df['pct_change'] = ( df['pct_change'] + 1 ) * pct_mult\n",
        "df.dropna(inplace=True)\n",
        "\n",
        "# movement\n",
        "fee = 0.0016\n",
        "move_mult = 1\n",
        "df['move'] = df['pct_change'].apply(lambda x: 1 if x > (fee+1)*100 else 0)\n",
        "#del df['pct_change_ori']\n",
        "df['move'] = df['move'] * move_mult\n",
        "\n",
        "#\n",
        "timeframe_day = int(( 60 / 5 ) * 24)\n",
        "timeframe = int( timeframe_day * 365.25/13) +1\n",
        "df = df.iloc[-(timeframe):-1]\n",
        "df.reset_index(inplace=True)\n",
        "del df['index']\n",
        "df"
      ]
    },
    {
      "cell_type": "markdown",
      "metadata": {
        "id": "AMjNVdPvsG4q"
      },
      "source": [
        "### **tsfresh**"
      ]
    },
    {
      "cell_type": "code",
      "execution_count": null,
      "metadata": {
        "id": "Ehu3bNLWHz1N"
      },
      "outputs": [],
      "source": [
        "features = ['open', 'high', 'low', 'vt', 'pct_change', 'move']\n",
        "target = 'close'"
      ]
    },
    {
      "cell_type": "code",
      "execution_count": null,
      "metadata": {
        "id": "mLkde232rVpo"
      },
      "outputs": [],
      "source": [
        "# 2D dataframe\n",
        "#X = pd.DataFrame()\n",
        "#for i, ts in tqdm(enumerate( np.array(df[features]) ), total=len(df[features])):\n",
        "#    data = [[x, i] for x in ts]\n",
        "#    X = X.append(data, ignore_index=True)\n",
        "#X.columns = ['value', 'id']"
      ]
    },
    {
      "cell_type": "code",
      "execution_count": null,
      "metadata": {
        "colab": {
          "base_uri": "https://localhost:8080/",
          "height": 537
        },
        "id": "uhW6U0C8i4Os",
        "outputId": "c3007dd4-ab9a-45a5-ae3d-036ec8cdc784"
      },
      "outputs": [],
      "source": [
        "X = df[features]\n",
        "X['id'] = np.arange(0,len(df))\n",
        "#X = df.copy()\n",
        "X"
      ]
    },
    {
      "cell_type": "code",
      "execution_count": null,
      "metadata": {
        "colab": {
          "base_uri": "https://localhost:8080/",
          "height": 336
        },
        "id": "on99ptkSr6A5",
        "outputId": "f801c094-4c23-4040-8733-34a8d0e96d58"
      },
      "outputs": [],
      "source": [
        "from tsfresh import extract_relevant_features\n",
        "\n",
        "features_filtered_direct = extract_relevant_features(X, df[target], column_id='id')\n",
        "impute(features_filtered_direct)\n",
        "features_filtered_direct.head()"
      ]
    },
    {
      "cell_type": "code",
      "execution_count": null,
      "metadata": {
        "colab": {
          "base_uri": "https://localhost:8080/",
          "height": 317
        },
        "id": "I2W034fvvqXG",
        "outputId": "f2a3b06e-6a0b-4f26-f0d0-b4b477b3d873"
      },
      "outputs": [],
      "source": [
        "sf = select_features(features_filtered_direct, df[target])\n",
        "sf.head()"
      ]
    },
    {
      "cell_type": "code",
      "execution_count": null,
      "metadata": {
        "id": "G8pYBgQm471B"
      },
      "outputs": [],
      "source": [
        "with open(path+'features.pickle', 'wb') as handle:\n",
        "    pickle.dump(sf[:1], handle, protocol=pickle.HIGHEST_PROTOCOL)"
      ]
    },
    {
      "cell_type": "code",
      "execution_count": null,
      "metadata": {
        "id": "QCC644Eg62UX"
      },
      "outputs": [],
      "source": [
        "with open(path+'features.pickle', 'rb') as handle:\n",
        "    col = pickle.load(handle)"
      ]
    },
    {
      "cell_type": "code",
      "execution_count": null,
      "metadata": {
        "id": "JFvo3MJPujT1"
      },
      "outputs": [],
      "source": [
        "kind_to_fc_parameters = tsfresh.feature_extraction.settings.from_columns(col)"
      ]
    },
    {
      "cell_type": "code",
      "execution_count": null,
      "metadata": {
        "colab": {
          "base_uri": "https://localhost:8080/",
          "height": 336
        },
        "id": "deXjWP59usEp",
        "outputId": "1a1cfafa-cbf8-4898-f4a2-430641217fcc"
      },
      "outputs": [],
      "source": [
        "ef = extract_features(X, column_id = 'id',\n",
        "                      kind_to_fc_parameters = kind_to_fc_parameters)\n",
        "ef.head()"
      ]
    },
    {
      "cell_type": "code",
      "execution_count": null,
      "metadata": {
        "colab": {
          "base_uri": "https://localhost:8080/"
        },
        "id": "QCA4MjDYr6D2",
        "outputId": "583c4a35-dc4b-4356-9322-b907635c18b4"
      },
      "outputs": [],
      "source": [
        "sf.columns == ef[sf.columns].columns "
      ]
    },
    {
      "cell_type": "markdown",
      "metadata": {
        "id": "dDWg8GnUnf8w"
      },
      "source": [
        "### **PCA**"
      ]
    },
    {
      "cell_type": "code",
      "execution_count": null,
      "metadata": {
        "colab": {
          "base_uri": "https://localhost:8080/",
          "height": 423
        },
        "id": "KJ3lY0nvnkdy",
        "outputId": "03dd5884-3491-4ecc-b490-7026e8728b2e"
      },
      "outputs": [],
      "source": [
        "pca = PCA(n_components=2)\n",
        "principalComponents = pca.fit_transform(ef[col])\n",
        "principalDf = pd.DataFrame(principalComponents, columns=['1', '2'])\n",
        "principalDf"
      ]
    },
    {
      "cell_type": "code",
      "execution_count": null,
      "metadata": {
        "colab": {
          "base_uri": "https://localhost:8080/"
        },
        "id": "1CpRFntL4qil",
        "outputId": "ecd390ce-d6a0-4292-a275-d40d5b8bdf08"
      },
      "outputs": [],
      "source": [
        "pca.explained_variance_ratio_"
      ]
    },
    {
      "cell_type": "code",
      "execution_count": null,
      "metadata": {
        "colab": {
          "base_uri": "https://localhost:8080/"
        },
        "id": "zXOrR9Gqn4DS",
        "outputId": "950dad4a-f625-4d20-c023-4a7358350e6e"
      },
      "outputs": [],
      "source": [
        "sum(pca.explained_variance_ratio_)"
      ]
    },
    {
      "cell_type": "markdown",
      "metadata": {
        "id": "bzKgsatcLyc_"
      },
      "source": [
        "### **Scaler**"
      ]
    },
    {
      "cell_type": "code",
      "execution_count": null,
      "metadata": {
        "colab": {
          "base_uri": "https://localhost:8080/"
        },
        "id": "SZx7lAQLKAf5",
        "outputId": "b0ee4823-f90e-49cb-ae20-a5453f57b282"
      },
      "outputs": [],
      "source": [
        "scaler1 = MinMaxScaler(feature_range=(1700,2600))\n",
        "scaler2 = MinMaxScaler(feature_range=(1700,2600))\n",
        "\n",
        "scaler1.fit( pd.DataFrame( principalDf['1']) )\n",
        "scaler2.fit( pd.DataFrame( principalDf['2']) )"
      ]
    },
    {
      "cell_type": "code",
      "execution_count": null,
      "metadata": {
        "id": "8PtSp9LlKal7"
      },
      "outputs": [],
      "source": [
        "data1 = scaler1.transform( pd.DataFrame( principalDf['1']) )\n",
        "data2 = scaler2.transform( pd.DataFrame( principalDf['2']) )"
      ]
    },
    {
      "cell_type": "markdown",
      "metadata": {
        "id": "DPMESJ5XjVyc"
      },
      "source": [
        "## **Prepro** "
      ]
    },
    {
      "cell_type": "code",
      "execution_count": null,
      "metadata": {
        "id": "ZD7NJ-H7kWfx"
      },
      "outputs": [],
      "source": [
        "def create_dataset(data, look_back):\n",
        "  return 0"
      ]
    },
    {
      "cell_type": "code",
      "execution_count": null,
      "metadata": {
        "colab": {
          "base_uri": "https://localhost:8080/",
          "height": 423
        },
        "id": "Fbx1k6Kw7U97",
        "outputId": "5d1f003c-04ea-403b-d98a-2703a0ee0b9d"
      },
      "outputs": [],
      "source": [
        "features = ['open', 'high', 'low', 'vt', 'pct_change', 'move' , 'pca1', 'pca2']\n",
        "target = 'close'\n",
        "df['pca1'] = data1\n",
        "df['pca2'] = data2\n",
        "df"
      ]
    },
    {
      "cell_type": "code",
      "execution_count": null,
      "metadata": {
        "id": "JXy1RhKZoS8T"
      },
      "outputs": [],
      "source": [
        "y_train, y_test, x_train, x_test = temporal_train_test_split(y = np.array(df[target]),\n",
        "                                                             X = np.array(df[features]),\n",
        "                                                             #test_size = int(timeframe_day * 7))\n",
        "                                                             test_size = 1440 ) "
      ]
    },
    {
      "cell_type": "code",
      "execution_count": null,
      "metadata": {
        "id": "FGk72Gd2njAf"
      },
      "outputs": [],
      "source": [
        "look_back = 1\n",
        "x_train = np.reshape(x_train, (x_train.shape[0], x_train.shape[1], look_back))\n",
        "x_test = np.reshape(x_test, (x_test.shape[0], x_test.shape[1], look_back))"
      ]
    },
    {
      "cell_type": "code",
      "execution_count": null,
      "metadata": {
        "colab": {
          "base_uri": "https://localhost:8080/"
        },
        "id": "_98L3L7nsiZA",
        "outputId": "a4ccc0a1-a026-4856-d057-f9c41e9f4a40"
      },
      "outputs": [],
      "source": [
        "x_train.shape"
      ]
    },
    {
      "cell_type": "code",
      "execution_count": null,
      "metadata": {
        "id": "x17MWVIruL4v"
      },
      "outputs": [],
      "source": [
        "#del df"
      ]
    },
    {
      "cell_type": "markdown",
      "metadata": {
        "id": "Ko6c8AuerdtV"
      },
      "source": [
        "## **Model**"
      ]
    },
    {
      "cell_type": "code",
      "execution_count": null,
      "metadata": {
        "colab": {
          "base_uri": "https://localhost:8080/"
        },
        "id": "N8CnuP3D_5W9",
        "outputId": "21549e99-897a-48f8-9797-139bb1234c5a"
      },
      "outputs": [],
      "source": [
        "nodes = 80\n",
        "lookback = 1\n",
        "bias = True\n",
        "#nodes = config.nodes\n",
        "\n",
        "model = Sequential()\n",
        "\n",
        "model.add(GRU(int(nodes/10*lookback), input_shape=(x_train.shape[1],x_train.shape[2]), use_bias=bias, activation = \"elu\", \n",
        "              return_sequences=True,  activity_regularizer='l1'))\n",
        "model.add(GRU(int(nodes*lookback), use_bias=bias, activation = \"elu\", return_sequences=True, activity_regularizer='l1'))\n",
        "model.add(GRU(int(nodes*lookback), use_bias=bias, activation = \"elu\", return_sequences=True, activity_regularizer='l1'))\n",
        "model.add(GRU(int(nodes*lookback), use_bias=bias, activation = \"elu\", return_sequences=True, activity_regularizer='l1'))\n",
        "model.add(GRU((nodes*lookback), use_bias=bias, activation = \"elu\", activity_regularizer='l1'))\n",
        "#model.add(Dropout(0.001))\n",
        "model.add(Flatten())\n",
        "model.add(Dense(int(nodes*lookback),  use_bias=bias, activation = \"elu\", activity_regularizer='l1'))\n",
        "model.add(Dense(int(nodes*lookback*0.8),  use_bias=bias, activation = \"elu\", activity_regularizer='l1'))\n",
        "model.add(Dense(int(nodes*lookback*0.6),  use_bias=bias, activation = \"elu\", activity_regularizer='l1'))\n",
        "model.add(Dense(int(nodes*lookback*0.4),  use_bias=bias, activation = \"elu\", activity_regularizer='l1'))\n",
        "model.add(Dense(int(nodes*lookback*0.2),  activation = \"elu\", activity_regularizer='l1'))\n",
        "model.add(Dense(int(nodes*lookback*0.1),  activation = \"elu\", activity_regularizer='l1'))\n",
        "model.add(Dense(1, use_bias=bias, activation = \"elu\", activity_regularizer='l1'))\n"
      ]
    },
    {
      "cell_type": "code",
      "execution_count": null,
      "metadata": {
        "colab": {
          "base_uri": "https://localhost:8080/"
        },
        "id": "USJZjuhzNx3W",
        "outputId": "dc7823a4-9ccc-473f-9a8e-d183e5b8ed19"
      },
      "outputs": [],
      "source": [
        "nodes = 80\n",
        "lookback = 1\n",
        "bias = True\n",
        "#nodes = config.nodes\n",
        "\n",
        "model = Sequential()\n",
        "\n",
        "model.add(GRU(int(nodes*0.1), input_shape=(x_train.shape[1],x_train.shape[2]), use_bias=bias, activation = \"elu\", \n",
        "              return_sequences=True,  activity_regularizer='l1'))\n",
        "model.add(GRU(int(nodes*0.2), use_bias=bias, activation = \"elu\", return_sequences=True, activity_regularizer='l1'))\n",
        "model.add(GRU(int(nodes*0.4), use_bias=bias, activation = \"elu\", return_sequences=True, activity_regularizer='l1'))\n",
        "model.add(GRU(int(nodes*0.6), use_bias=bias, activation = \"elu\", return_sequences=True, activity_regularizer='l1'))\n",
        "model.add(GRU(int(nodes*0.8), use_bias=bias, activation = \"elu\", return_sequences=True, activity_regularizer='l1'))\n",
        "model.add(GRU(int(nodes), use_bias=bias, activation = \"elu\", return_sequences=True, activity_regularizer='l1'))\n",
        "model.add(GRU((nodes*lookback), use_bias=bias, activation = \"elu\", activity_regularizer='l1'))\n",
        "#model.add(Dropout(0.001))\n",
        "model.add(Flatten())\n",
        "model.add(Dense(int(nodes*lookback),  use_bias=bias, activation = \"elu\", activity_regularizer='l1'))\n",
        "model.add(Dense(int(nodes*lookback),  use_bias=bias, activation = \"elu\", activity_regularizer='l1'))\n",
        "model.add(Dense(int(nodes*lookback*0.8),  use_bias=bias, activation = \"elu\", activity_regularizer='l1'))\n",
        "model.add(Dense(int(nodes*lookback*0.6),  use_bias=bias, activation = \"elu\", activity_regularizer='l1'))\n",
        "model.add(Dense(int(nodes*lookback*0.4),  use_bias=bias, activation = \"elu\", activity_regularizer='l1'))\n",
        "model.add(Dense(int(nodes*lookback*0.2),  activation = \"elu\", activity_regularizer='l1'))\n",
        "model.add(Dense(int(nodes*lookback*0.1),  activation = \"elu\", activity_regularizer='l1'))\n",
        "model.add(Dense(1, use_bias=bias, activation = \"elu\", activity_regularizer='l1'))"
      ]
    },
    {
      "cell_type": "code",
      "execution_count": null,
      "metadata": {
        "id": "3v35Sse0njE2"
      },
      "outputs": [],
      "source": []
    },
    {
      "cell_type": "markdown",
      "metadata": {
        "id": "Ed0QKBextN8J"
      },
      "source": [
        "### **Callbacks**"
      ]
    },
    {
      "cell_type": "code",
      "execution_count": null,
      "metadata": {
        "id": "q6of6GdfJ4iw"
      },
      "outputs": [],
      "source": [
        "initial_learning_rate = 0.001\n",
        "epochs = 100\n",
        "decay = initial_learning_rate / (epochs/10)\n",
        "def lr_time_based_decay(epoch, lr):\n",
        "    return lr * 1 / (1 + decay * epoch)"
      ]
    },
    {
      "cell_type": "code",
      "execution_count": null,
      "metadata": {
        "id": "MZFFJaB0njHd"
      },
      "outputs": [],
      "source": [
        "filepath = path+\"weight.hdf5\"\n",
        "checkpoint = ModelCheckpoint(filepath, monitor='loss', verbose=1, save_best_only=True, mode='auto')\n",
        "callbacks_list = [checkpoint,\n",
        "                  LearningRateScheduler(lr_time_based_decay, verbose=1)] "
      ]
    },
    {
      "cell_type": "markdown",
      "metadata": {
        "id": "0rncG-aUtmy6"
      },
      "source": [
        "### **Fit**"
      ]
    },
    {
      "cell_type": "code",
      "execution_count": null,
      "metadata": {
        "colab": {
          "base_uri": "https://localhost:8080/"
        },
        "id": "2uB89rbynjKB",
        "outputId": "a00542c2-a940-41d3-8e0c-42e0c6c461b6"
      },
      "outputs": [],
      "source": [
        "model.compile(loss='mean_absolute_error', optimizer= 'adam')\n",
        "model.fit(x_train, y_train,\n",
        "          epochs = epochs, batch_size = int(len(x_train)/2),\n",
        "          #validation_data=(testX, y_test),\n",
        "          #validation_data=(trainX[:5], y_train[:5]),\n",
        "          verbose = 1, \n",
        "          shuffle = False,\n",
        "          callbacks = callbacks_list)"
      ]
    },
    {
      "cell_type": "markdown",
      "metadata": {
        "id": "iEdYKuKtuenq"
      },
      "source": [
        "## **Eval**"
      ]
    },
    {
      "cell_type": "code",
      "execution_count": null,
      "metadata": {
        "colab": {
          "base_uri": "https://localhost:8080/"
        },
        "id": "uYLWpWr0ugQd",
        "outputId": "956d32c8-a1d0-47f8-d730-9025bfc85529"
      },
      "outputs": [],
      "source": [
        "model = load_model(filepath)"
      ]
    },
    {
      "cell_type": "markdown",
      "metadata": {
        "id": "aj0UwheguoJ5"
      },
      "source": [
        "### **Predict**"
      ]
    },
    {
      "cell_type": "code",
      "execution_count": null,
      "metadata": {
        "id": "6SDy1x41ut0N"
      },
      "outputs": [],
      "source": [
        "y_pred = model.predict(x_test)\n",
        "y_pred = [x[0] for x in y_pred]"
      ]
    },
    {
      "cell_type": "code",
      "execution_count": null,
      "metadata": {
        "colab": {
          "base_uri": "https://localhost:8080/"
        },
        "id": "162Ozh5AvQos",
        "outputId": "326ff8f0-4da5-4334-8bb4-1aa4d409b575"
      },
      "outputs": [],
      "source": [
        "len(y_pred)"
      ]
    },
    {
      "cell_type": "markdown",
      "metadata": {
        "id": "AWLKEQI3vXSO"
      },
      "source": [
        "### **Profitability**"
      ]
    },
    {
      "cell_type": "code",
      "execution_count": null,
      "metadata": {
        "id": "BL77LscFvR3j"
      },
      "outputs": [],
      "source": [
        "eval = pd.DataFrame(y_test, columns = ['actual'])\n",
        "eval['pred'] = y_pred"
      ]
    },
    {
      "cell_type": "code",
      "execution_count": null,
      "metadata": {
        "colab": {
          "base_uri": "https://localhost:8080/",
          "height": 423
        },
        "id": "hvxZRxVCI7rO",
        "outputId": "58f0c400-450e-4e95-98ff-3521fcdaefed"
      },
      "outputs": [],
      "source": [
        "moe = 0 \n",
        "for i, row in eval.iterrows():\n",
        "  moe+= row['actual'] - row['pred']\n",
        "moe = moe/len(eval)\n",
        "eval['pred_moe'] = eval['pred'] + moe\n",
        "\n",
        "eval['actual_pct_change'] = eval['actual'].pct_change(1)\n",
        "eval['pred_pct_change'] = eval['pred'].pct_change(1)\n",
        "eval['pred_moe_pct_change'] = eval['pred_moe'].pct_change(1)\n",
        "eval.dropna(inplace=True)\n",
        "\n",
        "eval['actual_move'] = eval['actual_pct_change'].apply(lambda x: 1 if x>fee else 0)\n",
        "eval['pred_move'] = eval['pred_pct_change'].apply(lambda x: 1 if x>fee else 0)\n",
        "eval['pred_moe_move'] = eval['pred_moe_pct_change'].apply(lambda x: 1 if x>fee else 0)\n",
        "\n",
        "eval"
      ]
    },
    {
      "cell_type": "code",
      "execution_count": null,
      "metadata": {
        "colab": {
          "base_uri": "https://localhost:8080/",
          "height": 492
        },
        "id": "R4ZTUNuYvnKF",
        "outputId": "2c74ff22-8964-4796-bef1-5304cd6f3fa6"
      },
      "outputs": [],
      "source": [
        "figure(figsize=(25, 7), dpi=80)\n",
        "plt.plot(eval['actual'], label='actual')\n",
        "#plt.plot(eval['pred'], label='pred')\n",
        "plt.plot(eval['pred_moe'], label='pred_moe')\n",
        "plt.legend(loc='best')"
      ]
    },
    {
      "cell_type": "code",
      "execution_count": null,
      "metadata": {
        "colab": {
          "base_uri": "https://localhost:8080/",
          "height": 442
        },
        "id": "LeOGwWQ8I3yu",
        "outputId": "3b750640-946f-4a31-df15-6b4a53b85147"
      },
      "outputs": [],
      "source": [
        "actual_profit = eval[eval['actual_move']==1]\n",
        "init_asset = 100\n",
        "asset = 0\n",
        "for i, row in actual_profit.iterrows():\n",
        "  asset+= init_asset * row['actual_pct_change']\n",
        "print((asset/init_asset)*100)\n",
        "\n",
        "profit = eval[eval['pred_move']==1]\n",
        "init_asset = 100\n",
        "asset = 0\n",
        "for i, row in profit.iterrows():\n",
        "  asset+= init_asset * row['actual_pct_change']\n",
        "profit"
      ]
    },
    {
      "cell_type": "code",
      "execution_count": null,
      "metadata": {
        "colab": {
          "base_uri": "https://localhost:8080/"
        },
        "id": "V6F52nL84Fa3",
        "outputId": "4e461e3a-9613-4ab1-e9f5-75fd690a2b04"
      },
      "outputs": [],
      "source": [
        "(asset/init_asset)*100"
      ]
    },
    {
      "cell_type": "code",
      "execution_count": null,
      "metadata": {
        "colab": {
          "base_uri": "https://localhost:8080/"
        },
        "id": "qSbFBm33XCXO",
        "outputId": "38444d22-feb2-477c-ac12-c0632a8d0d6f"
      },
      "outputs": [],
      "source": [
        "from sklearn.metrics import classification_report\n",
        "print(classification_report(eval['actual_move'], eval['pred_move']))"
      ]
    },
    {
      "cell_type": "code",
      "execution_count": null,
      "metadata": {
        "id": "Mp88LfuKdFDN"
      },
      "outputs": [],
      "source": []
    }
  ],
  "metadata": {
    "accelerator": "GPU",
    "colab": {
      "collapsed_sections": [],
      "name": "Untitled9.ipynb",
      "provenance": []
    },
    "kernelspec": {
      "display_name": "Python 3",
      "name": "python3"
    },
    "language_info": {
      "name": "python"
    }
  },
  "nbformat": 4,
  "nbformat_minor": 0
}
